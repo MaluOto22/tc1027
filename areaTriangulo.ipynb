{
 "cells": [
  {
   "cell_type": "code",
   "execution_count": 1,
   "metadata": {},
   "outputs": [
    {
     "name": "stdout",
     "output_type": "stream",
     "text": [
      "El area es:  31.5\n"
     ]
    }
   ],
   "source": [
    "a=9\n",
    "b=7\n",
    "area=a*b/2\n",
    "print(\"El area es: \",area)\n",
    "radio=5\n",
    "volumen=4.0/3*3.1416*radio**3"
   ]
  }
 ],
 "metadata": {
  "kernelspec": {
   "display_name": "Python 3.10.6 64-bit",
   "language": "python",
   "name": "python3"
  },
  "language_info": {
   "codemirror_mode": {
    "name": "ipython",
    "version": 3
   },
   "file_extension": ".py",
   "mimetype": "text/x-python",
   "name": "python",
   "nbconvert_exporter": "python",
   "pygments_lexer": "ipython3",
   "version": "3.10.6"
  },
  "orig_nbformat": 4,
  "vscode": {
   "interpreter": {
    "hash": "5004f994e3aa0378a3817c647b5a3a1a03f554c31e54d350404449431869ab39"
   }
  }
 },
 "nbformat": 4,
 "nbformat_minor": 2
}
