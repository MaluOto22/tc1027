{
 "cells": [
  {
   "cell_type": "code",
   "execution_count": 2,
   "metadata": {},
   "outputs": [
    {
     "name": "stdout",
     "output_type": "stream",
     "text": [
      "    nombre  parcial1  parcial2\n",
      "0     juan        88       100\n",
      "1     lety        90        90\n",
      "2  roberto        67        78\n",
      "3     jose        70        89\n",
      "4    pedro        98        85\n",
      "5    jorge        85        90\n",
      "6  daniela        56        80\n",
      "El promedio del parcial 1 es: \n",
      "79.14285714285714\n"
     ]
    },
    {
     "data": {
      "text/plain": [
       "<BarContainer object of 7 artists>"
      ]
     },
     "execution_count": 2,
     "metadata": {},
     "output_type": "execute_result"
    },
    {
     "data": {
      "image/png": "[encoded data removed]",
      "text/plain": [
       "<Figure size 432x288 with 1 Axes>"
      ]
     },
     "metadata": {
      "needs_background": "light"
     },
     "output_type": "display_data"
    }
   ],
   "source": [
    "import pandas as pd\n",
    "import matplotlib.pyplot as plt\n",
    "califs = pd.read_csv('notes.csv') \n",
    "print(califs)\n",
    "print(\"El promedio del parcial 1 es: \")\n",
    "print(califs['parcial1'].mean())\n",
    "plt.bar(califs['nombre'],califs['parcial1'])"
   ]
  }
 ],
 "metadata": {
  "kernelspec": {
   "display_name": "Python 3.10.6 64-bit",
   "language": "python",
   "name": "python3"
  },
  "language_info": {
   "codemirror_mode": {
    "name": "ipython",
    "version": 3
   },
   "file_extension": ".py",
   "mimetype": "text/x-python",
   "name": "python",
   "nbconvert_exporter": "python",
   "pygments_lexer": "ipython3",
   "version": "3.10.6"
  },
  "orig_nbformat": 4,
  "vscode": {
   "interpreter": {
    "hash": "5004f994e3aa0378a3817c647b5a3a1a03f554c31e54d350404449431869ab39"
   }
  }
 },
 "nbformat": 4,
 "nbformat_minor": 2
}
